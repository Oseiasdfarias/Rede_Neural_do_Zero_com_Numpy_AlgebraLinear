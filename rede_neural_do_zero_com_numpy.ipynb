{
 "cells": [
  {
   "cell_type": "markdown",
   "id": "862e3c75",
   "metadata": {
    "papermill": {
     "duration": 0.009426,
     "end_time": "2023-02-28T19:57:01.110147",
     "exception": false,
     "start_time": "2023-02-28T19:57:01.100721",
     "status": "completed"
    },
    "tags": []
   },
   "source": [
    "# **Rede Neural Artificial do Zero com Numpy**"
   ]
  },
  {
   "cell_type": "markdown",
   "id": "bc1590d9",
   "metadata": {
    "papermill": {
     "duration": 0.008082,
     "end_time": "2023-02-28T19:57:01.126436",
     "exception": false,
     "start_time": "2023-02-28T19:57:01.118354",
     "status": "completed"
    },
    "tags": []
   },
   "source": [
    "Redes Neurais Artificiais são algorítimos computacionais inspirados no funcionamento do cerebro humano, em que sua menor estrutura é o perceptron, sua estrutura é simples, sendo composta por entradas que são multiplicadas por pesos (ganhos) e somado com número [vies (Bayas)], além disso o perceptron possui uma função de ativação, a figura abaixo mostra a estrutura de um perceptron.\n",
    "\n",
    "<p align=\"center\">\n",
    "  <img src=\"https://starship-knowledge.com/wp-content/uploads/2020/10/Perceptrons-1024x724.jpeg\"  style=\"height: 40%; width:40%;\"/>\n",
    "</p>\n",
    "\n",
    "A partir dessa simples estrutura é possível criar algorítimos complexos que conseguem aproximar soluções não lineares, como, classificação de imagens, agrupamento de informações, tradução de textos entre muitas outras posssibilidades.\n",
    "\n",
    "Lembrando que modelos complexos de redes neurais artificiais possuem minhões ou mesmo bilhões dessas estruturas interligadas.\n",
    "\n",
    "<p align=\"center\">\n",
    "  <img src=\"https://www.researchgate.net/profile/Meriem-Bahi/publication/330120030/figure/fig1/AS:735637925797888@1552401157053/Deep-Neural-Network-architecture.ppm\"  style=\"height: 70%; width:70%;\"/>\n",
    "</p>\n"
   ]
  },
  {
   "cell_type": "markdown",
   "id": "4f7d9032",
   "metadata": {
    "papermill": {
     "duration": 0.007968,
     "end_time": "2023-02-28T19:57:01.142444",
     "exception": false,
     "start_time": "2023-02-28T19:57:01.134476",
     "status": "completed"
    },
    "tags": []
   },
   "source": [
    "---"
   ]
  },
  {
   "cell_type": "markdown",
   "id": "720c8b34",
   "metadata": {
    "papermill": {
     "duration": 0.007803,
     "end_time": "2023-02-28T19:57:01.158544",
     "exception": false,
     "start_time": "2023-02-28T19:57:01.150741",
     "status": "completed"
    },
    "tags": []
   },
   "source": [
    "## **Estrutura da Rede Neural que será Desenvolvida**\n",
    "\n",
    "A rede neural terá três camadas, sendo a primeira a camada de entradas, a segunda a camada oculta e a terceira a camada de saída.\n",
    "\n",
    "<p align=\"center\">\n",
    "  <img src=\"https://github.com/Oseiasdfarias/Rede_Neural_do_Zero_com_Numpy_AlgebraLinear/blob/main/utils/estrutura_rn.png?raw=true\"  style=\"height: 70%; width:70%;\"/>\n",
    "</p>\n"
   ]
  },
  {
   "cell_type": "markdown",
   "id": "caacf42b",
   "metadata": {
    "papermill": {
     "duration": 0.007692,
     "end_time": "2023-02-28T19:57:01.174406",
     "exception": false,
     "start_time": "2023-02-28T19:57:01.166714",
     "status": "completed"
    },
    "tags": []
   },
   "source": [
    "### Camada de Entrada:\n",
    "\n",
    "Essa camada recebe os pixels da imagem, cada imagem do conjunto de dados tem 28x28 pixels. ou seja, possui 784 pixels. Assim, a camada de entrada terá 784 entradas que corresponde ao número de pixels das imagens.\n",
    "\n",
    "### Camada Oculta:\n",
    "Para a camada oculta, vamos usar 10 neurônios, esse valor é arbitrário, foi usado para ficar melhor de entender a estrutura.\n",
    "\n",
    "### Camada de Saída:\n",
    "Para a camada de saída, deve ser usado 10 neurônios, pois como estamos trabalhando com um problema de classificação, cada neurônio da saída se refere a uma das classes, no caso do dataset MNIST, cada número é uma classe. iremos nos aprofundar melhor nessa parte mais a frente."
   ]
  },
  {
   "cell_type": "markdown",
   "id": "8c4db832",
   "metadata": {
    "papermill": {
     "duration": 0.007527,
     "end_time": "2023-02-28T19:57:01.190387",
     "exception": false,
     "start_time": "2023-02-28T19:57:01.182860",
     "status": "completed"
    },
    "tags": []
   },
   "source": [
    "---"
   ]
  },
  {
   "cell_type": "markdown",
   "id": "4e147a2f",
   "metadata": {
    "papermill": {
     "duration": 0.007788,
     "end_time": "2023-02-28T19:57:01.206133",
     "exception": false,
     "start_time": "2023-02-28T19:57:01.198345",
     "status": "completed"
    },
    "tags": []
   },
   "source": [
    "## **Base de Dados Para Treinar a Rede Neural**\n",
    "\n",
    "O objetivo é criar uma Rede Neural para classificar dígitos manuscritos, vamos usar uma base de dados muito conhecida chamada MNIST, essa base de dados é composta por imagem dos números de 0 a 10.\n",
    "\n",
    "<p align=\"center\">\n",
    "  <img src=\"https://machinelearningmastery.com/wp-content/uploads/2019/02/Plot-of-a-Subset-of-Images-from-the-MNIST-Dataset-1024x768.png\"  style=\"height: 30%; width:30%;\"/>\n",
    "</p>"
   ]
  },
  {
   "cell_type": "markdown",
   "id": "aaf0fa08",
   "metadata": {
    "papermill": {
     "duration": 0.007644,
     "end_time": "2023-02-28T19:57:01.222009",
     "exception": false,
     "start_time": "2023-02-28T19:57:01.214365",
     "status": "completed"
    },
    "tags": []
   },
   "source": [
    "---"
   ]
  },
  {
   "cell_type": "markdown",
   "id": "d612eac3",
   "metadata": {
    "papermill": {
     "duration": 0.008109,
     "end_time": "2023-02-28T19:57:01.237895",
     "exception": false,
     "start_time": "2023-02-28T19:57:01.229786",
     "status": "completed"
    },
    "tags": []
   },
   "source": [
    "## **Pré-Processamento da Base de Dados**"
   ]
  },
  {
   "cell_type": "markdown",
   "id": "50b5dddf",
   "metadata": {
    "papermill": {
     "duration": 0.008487,
     "end_time": "2023-02-28T19:57:01.254447",
     "exception": false,
     "start_time": "2023-02-28T19:57:01.245960",
     "status": "completed"
    },
    "tags": []
   },
   "source": [
    "### Importando as Bibliotecas"
   ]
  },
  {
   "cell_type": "code",
   "execution_count": 1,
   "id": "028ca34c",
   "metadata": {
    "execution": {
     "iopub.execute_input": "2023-02-28T19:57:01.274519Z",
     "iopub.status.busy": "2023-02-28T19:57:01.273309Z",
     "iopub.status.idle": "2023-02-28T19:57:01.286043Z",
     "shell.execute_reply": "2023-02-28T19:57:01.284978Z"
    },
    "papermill": {
     "duration": 0.025232,
     "end_time": "2023-02-28T19:57:01.288411",
     "exception": false,
     "start_time": "2023-02-28T19:57:01.263179",
     "status": "completed"
    },
    "tags": []
   },
   "outputs": [],
   "source": [
    "import numpy as np\n",
    "import pandas as pd\n",
    "from matplotlib import pyplot as plt"
   ]
  },
  {
   "cell_type": "markdown",
   "id": "d14f4842",
   "metadata": {
    "papermill": {
     "duration": 0.01043,
     "end_time": "2023-02-28T19:57:01.307240",
     "exception": false,
     "start_time": "2023-02-28T19:57:01.296810",
     "status": "completed"
    },
    "tags": []
   },
   "source": [
    "#### Carregando o Dataset MNIST"
   ]
  },
  {
   "cell_type": "code",
   "execution_count": 2,
   "id": "72abf1f1",
   "metadata": {
    "execution": {
     "iopub.execute_input": "2023-02-28T19:57:01.331925Z",
     "iopub.status.busy": "2023-02-28T19:57:01.330893Z",
     "iopub.status.idle": "2023-02-28T19:57:06.108043Z",
     "shell.execute_reply": "2023-02-28T19:57:06.106272Z"
    },
    "papermill": {
     "duration": 4.792271,
     "end_time": "2023-02-28T19:57:06.111000",
     "exception": false,
     "start_time": "2023-02-28T19:57:01.318729",
     "status": "completed"
    },
    "tags": []
   },
   "outputs": [
    {
     "data": {
      "text/html": [
       "<div>\n",
       "<style scoped>\n",
       "    .dataframe tbody tr th:only-of-type {\n",
       "        vertical-align: middle;\n",
       "    }\n",
       "\n",
       "    .dataframe tbody tr th {\n",
       "        vertical-align: top;\n",
       "    }\n",
       "\n",
       "    .dataframe thead th {\n",
       "        text-align: right;\n",
       "    }\n",
       "</style>\n",
       "<table border=\"1\" class=\"dataframe\">\n",
       "  <thead>\n",
       "    <tr style=\"text-align: right;\">\n",
       "      <th></th>\n",
       "      <th>label</th>\n",
       "      <th>1x1</th>\n",
       "      <th>1x2</th>\n",
       "      <th>1x3</th>\n",
       "      <th>1x4</th>\n",
       "      <th>1x5</th>\n",
       "      <th>1x6</th>\n",
       "      <th>1x7</th>\n",
       "      <th>1x8</th>\n",
       "      <th>1x9</th>\n",
       "      <th>...</th>\n",
       "      <th>28x19</th>\n",
       "      <th>28x20</th>\n",
       "      <th>28x21</th>\n",
       "      <th>28x22</th>\n",
       "      <th>28x23</th>\n",
       "      <th>28x24</th>\n",
       "      <th>28x25</th>\n",
       "      <th>28x26</th>\n",
       "      <th>28x27</th>\n",
       "      <th>28x28</th>\n",
       "    </tr>\n",
       "  </thead>\n",
       "  <tbody>\n",
       "    <tr>\n",
       "      <th>0</th>\n",
       "      <td>5</td>\n",
       "      <td>0</td>\n",
       "      <td>0</td>\n",
       "      <td>0</td>\n",
       "      <td>0</td>\n",
       "      <td>0</td>\n",
       "      <td>0</td>\n",
       "      <td>0</td>\n",
       "      <td>0</td>\n",
       "      <td>0</td>\n",
       "      <td>...</td>\n",
       "      <td>0</td>\n",
       "      <td>0</td>\n",
       "      <td>0</td>\n",
       "      <td>0</td>\n",
       "      <td>0</td>\n",
       "      <td>0</td>\n",
       "      <td>0</td>\n",
       "      <td>0</td>\n",
       "      <td>0</td>\n",
       "      <td>0</td>\n",
       "    </tr>\n",
       "    <tr>\n",
       "      <th>1</th>\n",
       "      <td>0</td>\n",
       "      <td>0</td>\n",
       "      <td>0</td>\n",
       "      <td>0</td>\n",
       "      <td>0</td>\n",
       "      <td>0</td>\n",
       "      <td>0</td>\n",
       "      <td>0</td>\n",
       "      <td>0</td>\n",
       "      <td>0</td>\n",
       "      <td>...</td>\n",
       "      <td>0</td>\n",
       "      <td>0</td>\n",
       "      <td>0</td>\n",
       "      <td>0</td>\n",
       "      <td>0</td>\n",
       "      <td>0</td>\n",
       "      <td>0</td>\n",
       "      <td>0</td>\n",
       "      <td>0</td>\n",
       "      <td>0</td>\n",
       "    </tr>\n",
       "    <tr>\n",
       "      <th>2</th>\n",
       "      <td>4</td>\n",
       "      <td>0</td>\n",
       "      <td>0</td>\n",
       "      <td>0</td>\n",
       "      <td>0</td>\n",
       "      <td>0</td>\n",
       "      <td>0</td>\n",
       "      <td>0</td>\n",
       "      <td>0</td>\n",
       "      <td>0</td>\n",
       "      <td>...</td>\n",
       "      <td>0</td>\n",
       "      <td>0</td>\n",
       "      <td>0</td>\n",
       "      <td>0</td>\n",
       "      <td>0</td>\n",
       "      <td>0</td>\n",
       "      <td>0</td>\n",
       "      <td>0</td>\n",
       "      <td>0</td>\n",
       "      <td>0</td>\n",
       "    </tr>\n",
       "    <tr>\n",
       "      <th>3</th>\n",
       "      <td>1</td>\n",
       "      <td>0</td>\n",
       "      <td>0</td>\n",
       "      <td>0</td>\n",
       "      <td>0</td>\n",
       "      <td>0</td>\n",
       "      <td>0</td>\n",
       "      <td>0</td>\n",
       "      <td>0</td>\n",
       "      <td>0</td>\n",
       "      <td>...</td>\n",
       "      <td>0</td>\n",
       "      <td>0</td>\n",
       "      <td>0</td>\n",
       "      <td>0</td>\n",
       "      <td>0</td>\n",
       "      <td>0</td>\n",
       "      <td>0</td>\n",
       "      <td>0</td>\n",
       "      <td>0</td>\n",
       "      <td>0</td>\n",
       "    </tr>\n",
       "    <tr>\n",
       "      <th>4</th>\n",
       "      <td>9</td>\n",
       "      <td>0</td>\n",
       "      <td>0</td>\n",
       "      <td>0</td>\n",
       "      <td>0</td>\n",
       "      <td>0</td>\n",
       "      <td>0</td>\n",
       "      <td>0</td>\n",
       "      <td>0</td>\n",
       "      <td>0</td>\n",
       "      <td>...</td>\n",
       "      <td>0</td>\n",
       "      <td>0</td>\n",
       "      <td>0</td>\n",
       "      <td>0</td>\n",
       "      <td>0</td>\n",
       "      <td>0</td>\n",
       "      <td>0</td>\n",
       "      <td>0</td>\n",
       "      <td>0</td>\n",
       "      <td>0</td>\n",
       "    </tr>\n",
       "  </tbody>\n",
       "</table>\n",
       "<p>5 rows × 785 columns</p>\n",
       "</div>"
      ],
      "text/plain": [
       "   label  1x1  1x2  1x3  1x4  1x5  1x6  1x7  1x8  1x9  ...  28x19  28x20  \\\n",
       "0      5    0    0    0    0    0    0    0    0    0  ...      0      0   \n",
       "1      0    0    0    0    0    0    0    0    0    0  ...      0      0   \n",
       "2      4    0    0    0    0    0    0    0    0    0  ...      0      0   \n",
       "3      1    0    0    0    0    0    0    0    0    0  ...      0      0   \n",
       "4      9    0    0    0    0    0    0    0    0    0  ...      0      0   \n",
       "\n",
       "   28x21  28x22  28x23  28x24  28x25  28x26  28x27  28x28  \n",
       "0      0      0      0      0      0      0      0      0  \n",
       "1      0      0      0      0      0      0      0      0  \n",
       "2      0      0      0      0      0      0      0      0  \n",
       "3      0      0      0      0      0      0      0      0  \n",
       "4      0      0      0      0      0      0      0      0  \n",
       "\n",
       "[5 rows x 785 columns]"
      ]
     },
     "execution_count": 2,
     "metadata": {},
     "output_type": "execute_result"
    }
   ],
   "source": [
    "data = pd.read_csv(\"/kaggle/input/mnist-in-csv/mnist_train.csv\")\n",
    "data.head()"
   ]
  },
  {
   "cell_type": "code",
   "execution_count": 3,
   "id": "e5e9885b",
   "metadata": {
    "execution": {
     "iopub.execute_input": "2023-02-28T19:57:06.131629Z",
     "iopub.status.busy": "2023-02-28T19:57:06.131232Z",
     "iopub.status.idle": "2023-02-28T19:57:06.137593Z",
     "shell.execute_reply": "2023-02-28T19:57:06.136401Z"
    },
    "papermill": {
     "duration": 0.020213,
     "end_time": "2023-02-28T19:57:06.140770",
     "exception": false,
     "start_time": "2023-02-28T19:57:06.120557",
     "status": "completed"
    },
    "tags": []
   },
   "outputs": [
    {
     "name": "stdout",
     "output_type": "stream",
     "text": [
      "Estrutura dos Dados: (60000, 785)\n"
     ]
    }
   ],
   "source": [
    "print(f\"Estrutura dos Dados: {data.shape}\")"
   ]
  },
  {
   "cell_type": "markdown",
   "id": "ae04dff0",
   "metadata": {
    "papermill": {
     "duration": 0.009053,
     "end_time": "2023-02-28T19:57:06.158966",
     "exception": false,
     "start_time": "2023-02-28T19:57:06.149913",
     "status": "completed"
    },
    "tags": []
   },
   "source": [
    "### Transformando o DataFrame Pandas em um array numpy e separando entre dados de Traino e Teste\n",
    "Pré-processamento dos dados, comolando no formato correto para a rede neural"
   ]
  },
  {
   "cell_type": "code",
   "execution_count": 4,
   "id": "77d3a24b",
   "metadata": {
    "execution": {
     "iopub.execute_input": "2023-02-28T19:57:06.180348Z",
     "iopub.status.busy": "2023-02-28T19:57:06.179179Z",
     "iopub.status.idle": "2023-02-28T19:57:07.219099Z",
     "shell.execute_reply": "2023-02-28T19:57:07.217896Z"
    },
    "papermill": {
     "duration": 1.053592,
     "end_time": "2023-02-28T19:57:07.222335",
     "exception": false,
     "start_time": "2023-02-28T19:57:06.168743",
     "status": "completed"
    },
    "tags": []
   },
   "outputs": [],
   "source": [
    "# Converte o DataFrame Pandas em um NumPy Array\n",
    "data = np.array(data)\n",
    "# Pega as dimensões do dataset\n",
    "m, n = data.shape\n",
    "# Embaralha as imagens\n",
    "np.random.shuffle(data)\n",
    "\n",
    "# Separando os dados de treinamento\n",
    "data_test = data[0:1000].T\n",
    "# Pegando a primeira coluna que são os rótulos, identifica o número\n",
    "Y_test = data_test[0]\n",
    "# Pixels que formam as imagens \n",
    "X_test = data_test[1:n]\n",
    "# Normalizando os dados de teste.\n",
    "X_test = X_test / 255.\n",
    "\n",
    "# Dados de Treinamento\n",
    "data_train = data[1000:m].T\n",
    "# Pegando a primeira coluna que são os rótulos, identifica o número\n",
    "Y_train = data_train[0]\n",
    "# Pixels que formam as imagens\n",
    "X_train = data_train[1:n]\n",
    "# Normalizando os dados de teste.\n",
    "X_train = X_train / 255.\n",
    "_,m_train = X_train.shape"
   ]
  },
  {
   "cell_type": "markdown",
   "id": "d1aba6e7",
   "metadata": {
    "papermill": {
     "duration": 0.008931,
     "end_time": "2023-02-28T19:57:07.240679",
     "exception": false,
     "start_time": "2023-02-28T19:57:07.231748",
     "status": "completed"
    },
    "tags": []
   },
   "source": [
    "### Entradas para a Rede Neural\n",
    "cada uma das imagens possuem 784 pixels, esses dados são as entradas da rede neural.\n",
    "\n",
    "$$\\begin{bmatrix}\n",
    "    px_1\\\\\n",
    "    px_2\\\\\n",
    "    px_3\\\\\n",
    "    \\vdots\\\\\n",
    "    px_{784}\n",
    "\\end{bmatrix}$$"
   ]
  },
  {
   "cell_type": "code",
   "execution_count": 5,
   "id": "0266d97a",
   "metadata": {
    "execution": {
     "iopub.execute_input": "2023-02-28T19:57:07.260064Z",
     "iopub.status.busy": "2023-02-28T19:57:07.259344Z",
     "iopub.status.idle": "2023-02-28T19:57:07.267732Z",
     "shell.execute_reply": "2023-02-28T19:57:07.266582Z"
    },
    "papermill": {
     "duration": 0.021378,
     "end_time": "2023-02-28T19:57:07.270734",
     "exception": false,
     "start_time": "2023-02-28T19:57:07.249356",
     "status": "completed"
    },
    "tags": []
   },
   "outputs": [
    {
     "data": {
      "text/plain": [
       "array([[0., 0., 0., ..., 0., 0., 0.],\n",
       "       [0., 0., 0., ..., 0., 0., 0.],\n",
       "       [0., 0., 0., ..., 0., 0., 0.],\n",
       "       ...,\n",
       "       [0., 0., 0., ..., 0., 0., 0.],\n",
       "       [0., 0., 0., ..., 0., 0., 0.],\n",
       "       [0., 0., 0., ..., 0., 0., 0.]])"
      ]
     },
     "execution_count": 5,
     "metadata": {},
     "output_type": "execute_result"
    }
   ],
   "source": [
    "# Mostando a estrutura dos dados de treino\n",
    "X_train"
   ]
  },
  {
   "cell_type": "markdown",
   "id": "8588e9d5",
   "metadata": {
    "papermill": {
     "duration": 0.008271,
     "end_time": "2023-02-28T19:57:07.288232",
     "exception": false,
     "start_time": "2023-02-28T19:57:07.279961",
     "status": "completed"
    },
    "tags": []
   },
   "source": [
    "#### Pixels de uma imagem"
   ]
  },
  {
   "cell_type": "code",
   "execution_count": 6,
   "id": "52b9e6aa",
   "metadata": {
    "execution": {
     "iopub.execute_input": "2023-02-28T19:57:07.308204Z",
     "iopub.status.busy": "2023-02-28T19:57:07.307225Z",
     "iopub.status.idle": "2023-02-28T19:57:07.324572Z",
     "shell.execute_reply": "2023-02-28T19:57:07.322570Z"
    },
    "papermill": {
     "duration": 0.031418,
     "end_time": "2023-02-28T19:57:07.328579",
     "exception": false,
     "start_time": "2023-02-28T19:57:07.297161",
     "status": "completed"
    },
    "tags": []
   },
   "outputs": [
    {
     "name": "stdout",
     "output_type": "stream",
     "text": [
      "\n",
      "Número: 8\n",
      "\n",
      "\n",
      "Pixels\n"
     ]
    },
    {
     "data": {
      "text/plain": [
       "array([0.        , 0.        , 0.        , 0.        , 0.        ,\n",
       "       0.        , 0.        , 0.        , 0.        , 0.        ,\n",
       "       0.        , 0.        , 0.        , 0.        , 0.        ,\n",
       "       0.        , 0.        , 0.        , 0.        , 0.        ,\n",
       "       0.        , 0.        , 0.        , 0.        , 0.        ,\n",
       "       0.        , 0.        , 0.        , 0.        , 0.        ,\n",
       "       0.        , 0.        , 0.        , 0.        , 0.        ,\n",
       "       0.        , 0.        , 0.        , 0.        , 0.        ,\n",
       "       0.        , 0.        , 0.        , 0.        , 0.        ,\n",
       "       0.        , 0.        , 0.        , 0.        , 0.        ,\n",
       "       0.        , 0.        , 0.        , 0.        , 0.        ,\n",
       "       0.        , 0.        , 0.        , 0.        , 0.        ,\n",
       "       0.        , 0.        , 0.        , 0.        , 0.        ,\n",
       "       0.        , 0.        , 0.        , 0.        , 0.        ,\n",
       "       0.        , 0.        , 0.        , 0.        , 0.        ,\n",
       "       0.        , 0.        , 0.        , 0.        , 0.        ,\n",
       "       0.        , 0.        , 0.        , 0.        , 0.        ,\n",
       "       0.        , 0.        , 0.        , 0.        , 0.        ,\n",
       "       0.        , 0.        , 0.        , 0.        , 0.        ,\n",
       "       0.        , 0.        , 0.        , 0.        , 0.        ,\n",
       "       0.        , 0.        , 0.        , 0.        , 0.        ,\n",
       "       0.        , 0.        , 0.        , 0.        , 0.        ,\n",
       "       0.        , 0.        , 0.        , 0.        , 0.        ,\n",
       "       0.        , 0.        , 0.        , 0.        , 0.        ,\n",
       "       0.        , 0.        , 0.        , 0.        , 0.        ,\n",
       "       0.        , 0.        , 0.        , 0.        , 0.        ,\n",
       "       0.        , 0.        , 0.        , 0.        , 0.        ,\n",
       "       0.        , 0.        , 0.        , 0.        , 0.        ,\n",
       "       0.        , 0.        , 0.        , 0.        , 0.        ,\n",
       "       0.        , 0.        , 0.        , 0.        , 0.        ,\n",
       "       0.        , 0.20784314, 0.52156863, 0.85490196, 0.81568627,\n",
       "       0.77254902, 0.62352941, 0.08627451, 0.        , 0.        ,\n",
       "       0.        , 0.        , 0.        , 0.        , 0.        ,\n",
       "       0.        , 0.        , 0.        , 0.        , 0.        ,\n",
       "       0.        , 0.        , 0.        , 0.        , 0.        ,\n",
       "       0.        , 0.12156863, 0.55294118, 0.94901961, 0.98431373,\n",
       "       0.84313725, 0.54509804, 0.46666667, 0.95686275, 0.99607843,\n",
       "       0.40392157, 0.        , 0.        , 0.        , 0.        ,\n",
       "       0.        , 0.        , 0.        , 0.        , 0.        ,\n",
       "       0.        , 0.        , 0.        , 0.        , 0.        ,\n",
       "       0.        , 0.        , 0.        , 0.03921569, 0.71372549,\n",
       "       0.99607843, 0.71764706, 0.3372549 , 0.03921569, 0.        ,\n",
       "       0.        , 0.50980392, 0.96078431, 0.25098039, 0.        ,\n",
       "       0.        , 0.        , 0.        , 0.        , 0.        ,\n",
       "       0.        , 0.        , 0.        , 0.        , 0.        ,\n",
       "       0.        , 0.        , 0.        , 0.        , 0.        ,\n",
       "       0.        , 0.44313725, 0.99607843, 0.96862745, 0.34509804,\n",
       "       0.        , 0.        , 0.        , 0.02745098, 0.67058824,\n",
       "       0.92941176, 0.        , 0.        , 0.        , 0.        ,\n",
       "       0.        , 0.        , 0.        , 0.        , 0.        ,\n",
       "       0.        , 0.        , 0.        , 0.        , 0.        ,\n",
       "       0.        , 0.        , 0.        , 0.        , 0.04313725,\n",
       "       0.38431373, 0.83529412, 0.89411765, 0.79215686, 0.34901961,\n",
       "       0.07058824, 0.20784314, 0.99607843, 0.61960784, 0.        ,\n",
       "       0.        , 0.        , 0.        , 0.        , 0.        ,\n",
       "       0.        , 0.        , 0.        , 0.        , 0.        ,\n",
       "       0.        , 0.        , 0.        , 0.        , 0.        ,\n",
       "       0.        , 0.        , 0.        , 0.        , 0.        ,\n",
       "       0.32941176, 0.72941176, 0.97254902, 0.9372549 , 0.8745098 ,\n",
       "       0.90980392, 0.08235294, 0.        , 0.        , 0.        ,\n",
       "       0.        , 0.        , 0.        , 0.        , 0.        ,\n",
       "       0.        , 0.        , 0.        , 0.        , 0.        ,\n",
       "       0.        , 0.        , 0.        , 0.        , 0.        ,\n",
       "       0.        , 0.        , 0.        , 0.        , 0.        ,\n",
       "       0.18431373, 0.97254902, 0.99607843, 0.99607843, 0.83921569,\n",
       "       0.32941176, 0.        , 0.        , 0.        , 0.        ,\n",
       "       0.        , 0.        , 0.        , 0.        , 0.        ,\n",
       "       0.        , 0.        , 0.        , 0.        , 0.        ,\n",
       "       0.        , 0.        , 0.        , 0.        , 0.        ,\n",
       "       0.        , 0.        , 0.        , 0.28235294, 0.99607843,\n",
       "       0.78823529, 0.41176471, 0.83529412, 0.99607843, 0.74901961,\n",
       "       0.12156863, 0.        , 0.        , 0.        , 0.        ,\n",
       "       0.        , 0.        , 0.        , 0.        , 0.        ,\n",
       "       0.        , 0.        , 0.        , 0.        , 0.        ,\n",
       "       0.        , 0.        , 0.        , 0.        , 0.        ,\n",
       "       0.        , 0.81176471, 0.99607843, 0.27058824, 0.        ,\n",
       "       0.05490196, 0.55294118, 0.99607843, 0.8627451 , 0.21176471,\n",
       "       0.        , 0.        , 0.        , 0.        , 0.        ,\n",
       "       0.        , 0.        , 0.        , 0.        , 0.        ,\n",
       "       0.        , 0.        , 0.        , 0.        , 0.        ,\n",
       "       0.        , 0.        , 0.        , 0.29803922, 0.99607843,\n",
       "       0.79607843, 0.01568627, 0.        , 0.        , 0.00392157,\n",
       "       0.23137255, 0.91764706, 0.97254902, 0.37254902, 0.        ,\n",
       "       0.        , 0.        , 0.        , 0.        , 0.        ,\n",
       "       0.        , 0.        , 0.        , 0.        , 0.        ,\n",
       "       0.        , 0.        , 0.        , 0.        , 0.        ,\n",
       "       0.        , 0.38039216, 0.99607843, 0.7254902 , 0.        ,\n",
       "       0.        , 0.        , 0.        , 0.        , 0.10980392,\n",
       "       0.92941176, 0.91372549, 0.09411765, 0.        , 0.        ,\n",
       "       0.        , 0.        , 0.        , 0.        , 0.        ,\n",
       "       0.        , 0.        , 0.        , 0.        , 0.        ,\n",
       "       0.        , 0.        , 0.        , 0.01568627, 0.81568627,\n",
       "       0.99607843, 0.27058824, 0.        , 0.        , 0.        ,\n",
       "       0.        , 0.        , 0.        , 0.61568627, 0.99607843,\n",
       "       0.19215686, 0.        , 0.        , 0.        , 0.        ,\n",
       "       0.        , 0.        , 0.        , 0.        , 0.        ,\n",
       "       0.        , 0.        , 0.        , 0.        , 0.        ,\n",
       "       0.        , 0.16862745, 0.99607843, 0.99607843, 0.07058824,\n",
       "       0.        , 0.        , 0.        , 0.        , 0.        ,\n",
       "       0.        , 0.21960784, 0.99607843, 0.19215686, 0.        ,\n",
       "       0.        , 0.        , 0.        , 0.        , 0.        ,\n",
       "       0.        , 0.        , 0.        , 0.        , 0.        ,\n",
       "       0.        , 0.        , 0.        , 0.        , 0.38823529,\n",
       "       0.99607843, 0.99607843, 0.07058824, 0.        , 0.        ,\n",
       "       0.        , 0.        , 0.        , 0.        , 0.56078431,\n",
       "       0.99607843, 0.19215686, 0.        , 0.        , 0.        ,\n",
       "       0.        , 0.        , 0.        , 0.        , 0.        ,\n",
       "       0.        , 0.        , 0.        , 0.        , 0.        ,\n",
       "       0.        , 0.        , 0.29803922, 0.99607843, 0.99607843,\n",
       "       0.07058824, 0.        , 0.        , 0.        , 0.        ,\n",
       "       0.        , 0.        , 0.90196078, 0.95686275, 0.14117647,\n",
       "       0.        , 0.        , 0.        , 0.        , 0.        ,\n",
       "       0.        , 0.        , 0.        , 0.        , 0.        ,\n",
       "       0.        , 0.        , 0.        , 0.        , 0.        ,\n",
       "       0.01568627, 0.81960784, 0.99607843, 0.39215686, 0.        ,\n",
       "       0.        , 0.        , 0.        , 0.        , 0.22352941,\n",
       "       0.96078431, 0.56862745, 0.        , 0.        , 0.        ,\n",
       "       0.        , 0.        , 0.        , 0.        , 0.        ,\n",
       "       0.        , 0.        , 0.        , 0.        , 0.        ,\n",
       "       0.        , 0.        , 0.        , 0.        , 0.38431373,\n",
       "       0.99607843, 0.72156863, 0.        , 0.        , 0.        ,\n",
       "       0.00392157, 0.27058824, 0.93333333, 0.83529412, 0.07058824,\n",
       "       0.        , 0.        , 0.        , 0.        , 0.        ,\n",
       "       0.        , 0.        , 0.        , 0.        , 0.        ,\n",
       "       0.        , 0.        , 0.        , 0.        , 0.        ,\n",
       "       0.        , 0.        , 0.3372549 , 0.99607843, 0.95294118,\n",
       "       0.31764706, 0.09411765, 0.10980392, 0.58823529, 0.99607843,\n",
       "       0.83921569, 0.11372549, 0.        , 0.        , 0.        ,\n",
       "       0.        , 0.        , 0.        , 0.        , 0.        ,\n",
       "       0.        , 0.        , 0.        , 0.        , 0.        ,\n",
       "       0.        , 0.        , 0.        , 0.        , 0.        ,\n",
       "       0.08235294, 0.94901961, 0.99607843, 0.99607843, 0.96862745,\n",
       "       0.94509804, 0.99607843, 0.70980392, 0.10588235, 0.        ,\n",
       "       0.        , 0.        , 0.        , 0.        , 0.        ,\n",
       "       0.        , 0.        , 0.        , 0.        , 0.        ,\n",
       "       0.        , 0.        , 0.        , 0.        , 0.        ,\n",
       "       0.        , 0.        , 0.        , 0.        , 0.08627451,\n",
       "       0.50196078, 0.70980392, 0.83137255, 0.61960784, 0.29411765,\n",
       "       0.        , 0.        , 0.        , 0.        , 0.        ,\n",
       "       0.        , 0.        , 0.        , 0.        , 0.        ,\n",
       "       0.        , 0.        , 0.        , 0.        , 0.        ,\n",
       "       0.        , 0.        , 0.        , 0.        , 0.        ,\n",
       "       0.        , 0.        , 0.        , 0.        , 0.        ,\n",
       "       0.        , 0.        , 0.        , 0.        , 0.        ,\n",
       "       0.        , 0.        , 0.        , 0.        , 0.        ,\n",
       "       0.        , 0.        , 0.        , 0.        , 0.        ,\n",
       "       0.        , 0.        , 0.        , 0.        , 0.        ,\n",
       "       0.        , 0.        , 0.        , 0.        , 0.        ,\n",
       "       0.        , 0.        , 0.        , 0.        , 0.        ,\n",
       "       0.        , 0.        , 0.        , 0.        , 0.        ,\n",
       "       0.        , 0.        , 0.        , 0.        , 0.        ,\n",
       "       0.        , 0.        , 0.        , 0.        , 0.        ,\n",
       "       0.        , 0.        , 0.        , 0.        , 0.        ,\n",
       "       0.        , 0.        , 0.        , 0.        , 0.        ,\n",
       "       0.        , 0.        , 0.        , 0.        , 0.        ,\n",
       "       0.        , 0.        , 0.        , 0.        , 0.        ,\n",
       "       0.        , 0.        , 0.        , 0.        ])"
      ]
     },
     "execution_count": 6,
     "metadata": {},
     "output_type": "execute_result"
    }
   ],
   "source": [
    "# uma amostra, com o seu rótulo respectivo.\n",
    "print(f\"\\nNúmero: {Y_train[0]}\")\n",
    "print(\"\\n\\nPixels\")\n",
    "X_train[:, 0]"
   ]
  },
  {
   "cell_type": "markdown",
   "id": "9f03fee9",
   "metadata": {
    "papermill": {
     "duration": 0.00887,
     "end_time": "2023-02-28T19:57:07.347584",
     "exception": false,
     "start_time": "2023-02-28T19:57:07.338714",
     "status": "completed"
    },
    "tags": []
   },
   "source": [
    "### Plotando algumas amostras com o auxílio do Matplotlib"
   ]
  },
  {
   "cell_type": "code",
   "execution_count": 7,
   "id": "082ccb89",
   "metadata": {
    "execution": {
     "iopub.execute_input": "2023-02-28T19:57:07.368051Z",
     "iopub.status.busy": "2023-02-28T19:57:07.366958Z",
     "iopub.status.idle": "2023-02-28T19:57:08.303759Z",
     "shell.execute_reply": "2023-02-28T19:57:08.302391Z"
    },
    "papermill": {
     "duration": 0.950098,
     "end_time": "2023-02-28T19:57:08.306583",
     "exception": false,
     "start_time": "2023-02-28T19:57:07.356485",
     "status": "completed"
    },
    "tags": []
   },
   "outputs": [
    {
     "data": {
      "image/png": "[encoded data removed]",
      "text/plain": [
       "<Figure size 700x500 with 9 Axes>"
      ]
     },
     "metadata": {},
     "output_type": "display_data"
    }
   ],
   "source": [
    "plt.figure(figsize=(7, 5))\n",
    "for i in range(9):\n",
    "    plt.subplot(330 + 1 + i)\n",
    "    plt.title(f\"Rótulo: {Y_train[i]}\")\n",
    "    # Coloca os pixels no formato 28x28 da imagem original do número\n",
    "    numero = X_train[:, i].reshape((28, 28))\n",
    "    # gera uma imagens com os dados dos pixels\n",
    "    plt.imshow(numero, cmap=plt.get_cmap('gray'))\n",
    "plt.subplots_adjust(wspace=0.1, hspace=0.5)\n",
    "plt.show()"
   ]
  },
  {
   "cell_type": "markdown",
   "id": "a2c63e0b",
   "metadata": {
    "papermill": {
     "duration": 0.013841,
     "end_time": "2023-02-28T19:57:08.335719",
     "exception": false,
     "start_time": "2023-02-28T19:57:08.321878",
     "status": "completed"
    },
    "tags": []
   },
   "source": [
    "---"
   ]
  },
  {
   "cell_type": "markdown",
   "id": "7ec956b3",
   "metadata": {
    "papermill": {
     "duration": 0.013816,
     "end_time": "2023-02-28T19:57:08.363804",
     "exception": false,
     "start_time": "2023-02-28T19:57:08.349988",
     "status": "completed"
    },
    "tags": []
   },
   "source": [
    "## **Codificando a Rede Neural Artificial**"
   ]
  },
  {
   "cell_type": "markdown",
   "id": "c4e120ba",
   "metadata": {
    "papermill": {
     "duration": 0.01372,
     "end_time": "2023-02-28T19:57:08.391644",
     "exception": false,
     "start_time": "2023-02-28T19:57:08.377924",
     "status": "completed"
    },
    "tags": []
   },
   "source": [
    "#### Inicializando os Parâmetros da Rede Neural\n",
    "Como dito no início, uma rede neural é composta por estruturas menores chamadas perceptrons, cada perceptron possui pesos e bayes para cada entrada que se conecta a ele, dessa forma, para o modelo desenvolvido nesse notebook, cada perceptron terá 784 pesos (um para cada entrada) e um Bayes.\n",
    "\n",
    "\n",
    "Onde:\n",
    "> + w1 : Pesos da primeira camada, é um array contendo todos os pesos para os percptrons da primeira camada.\n",
    "> + b1 : São os Bayes dos perceptrons da primeira camada, também chamada de Camada de entrada\n",
    "> + w2 : Pesos da segunda camada, é um array contendo todos os pesos para os percptrons da segunda camada.\n",
    "> + b2 : São os Bayes dos perceptrons da segunda camada, também chamada de Camada Oculta."
   ]
  },
  {
   "cell_type": "code",
   "execution_count": 8,
   "id": "55985c5d",
   "metadata": {
    "execution": {
     "iopub.execute_input": "2023-02-28T19:57:08.423118Z",
     "iopub.status.busy": "2023-02-28T19:57:08.422566Z",
     "iopub.status.idle": "2023-02-28T19:57:08.431713Z",
     "shell.execute_reply": "2023-02-28T19:57:08.430415Z"
    },
    "papermill": {
     "duration": 0.029214,
     "end_time": "2023-02-28T19:57:08.435300",
     "exception": false,
     "start_time": "2023-02-28T19:57:08.406086",
     "status": "completed"
    },
    "tags": []
   },
   "outputs": [],
   "source": [
    "def init_params():\n",
    "    w1 = np.random.rand(10, 784) - 0.5\n",
    "    b1 = np.random.rand(10, 1) - 0.5\n",
    "    w2 = np.random.rand(10, 10) - 0.5\n",
    "    b2 = np.random.rand(10, 1) - 0.5\n",
    "    return w1, b1, w2, b2"
   ]
  },
  {
   "cell_type": "markdown",
   "id": "24a61c6b",
   "metadata": {
    "papermill": {
     "duration": 0.015774,
     "end_time": "2023-02-28T19:57:08.468361",
     "exception": false,
     "start_time": "2023-02-28T19:57:08.452587",
     "status": "completed"
    },
    "tags": []
   },
   "source": [
    "#### Funções de Ativação ReLu e Softmax"
   ]
  },
  {
   "cell_type": "code",
   "execution_count": 9,
   "id": "d2d505e3",
   "metadata": {
    "execution": {
     "iopub.execute_input": "2023-02-28T19:57:08.503085Z",
     "iopub.status.busy": "2023-02-28T19:57:08.502571Z",
     "iopub.status.idle": "2023-02-28T19:57:08.511547Z",
     "shell.execute_reply": "2023-02-28T19:57:08.510368Z"
    },
    "papermill": {
     "duration": 0.029729,
     "end_time": "2023-02-28T19:57:08.514628",
     "exception": false,
     "start_time": "2023-02-28T19:57:08.484899",
     "status": "completed"
    },
    "tags": []
   },
   "outputs": [],
   "source": [
    "# Função de Ativação ReLu.\n",
    "def relu(z):\n",
    "    # Verifica para cada elemento do array se é maior que zero, \n",
    "    # caso seja, retorna o próprio valor, caso não, retorna zero.\n",
    "    return np.maximum(z, 0)\n",
    "\n",
    "# Derivada da Função de Ativação ReLu.\n",
    "def deriv_relu(z):\n",
    "    return z > 0\n",
    "\n",
    "# Função de Ativação Softmax, retorna a probabilidade da classificação esta correta.\n",
    "def softmax(z):\n",
    "    return np.exp(z) / (sum(np.exp(z)))"
   ]
  },
  {
   "cell_type": "markdown",
   "id": "34837e72",
   "metadata": {
    "papermill": {
     "duration": 0.01491,
     "end_time": "2023-02-28T19:57:08.545185",
     "exception": false,
     "start_time": "2023-02-28T19:57:08.530275",
     "status": "completed"
    },
    "tags": []
   },
   "source": [
    "#### Propagação direta (feedforward)"
   ]
  },
  {
   "cell_type": "code",
   "execution_count": 10,
   "id": "aad88e89",
   "metadata": {
    "execution": {
     "iopub.execute_input": "2023-02-28T19:57:08.577375Z",
     "iopub.status.busy": "2023-02-28T19:57:08.576902Z",
     "iopub.status.idle": "2023-02-28T19:57:08.586162Z",
     "shell.execute_reply": "2023-02-28T19:57:08.585175Z"
    },
    "papermill": {
     "duration": 0.028992,
     "end_time": "2023-02-28T19:57:08.589516",
     "exception": false,
     "start_time": "2023-02-28T19:57:08.560524",
     "status": "completed"
    },
    "tags": []
   },
   "outputs": [],
   "source": [
    "# Propagação Direta\n",
    "def forward_prop(w1, b1, w2, b2, x):\n",
    "    z1 = w1.dot(x) + b1\n",
    "    a1 = relu(z1)\n",
    "    z2 = w2.dot(a1) + b2\n",
    "    a2 = softmax(z2)\n",
    "    return z1, a1, z2, a2"
   ]
  },
  {
   "cell_type": "markdown",
   "id": "a1dfef41",
   "metadata": {
    "papermill": {
     "duration": 0.015061,
     "end_time": "2023-02-28T19:57:08.620309",
     "exception": false,
     "start_time": "2023-02-28T19:57:08.605248",
     "status": "completed"
    },
    "tags": []
   },
   "source": [
    "#### Codificando os rótulos, (one hot encoder)\n",
    "esse passo é necessário para transformar os rótulos na estrutura necessária para a rede neural poder funcionar corretamente"
   ]
  },
  {
   "cell_type": "code",
   "execution_count": 11,
   "id": "d1a93584",
   "metadata": {
    "execution": {
     "iopub.execute_input": "2023-02-28T19:57:08.652728Z",
     "iopub.status.busy": "2023-02-28T19:57:08.652140Z",
     "iopub.status.idle": "2023-02-28T19:57:08.667719Z",
     "shell.execute_reply": "2023-02-28T19:57:08.666504Z"
    },
    "papermill": {
     "duration": 0.036326,
     "end_time": "2023-02-28T19:57:08.671876",
     "exception": false,
     "start_time": "2023-02-28T19:57:08.635550",
     "status": "completed"
    },
    "tags": []
   },
   "outputs": [
    {
     "data": {
      "text/plain": [
       "array([[1., 0., 0., 0., 0.],\n",
       "       [0., 1., 0., 0., 0.],\n",
       "       [0., 0., 1., 0., 0.],\n",
       "       [0., 0., 0., 1., 0.],\n",
       "       [0., 0., 0., 0., 1.]])"
      ]
     },
     "execution_count": 11,
     "metadata": {},
     "output_type": "execute_result"
    }
   ],
   "source": [
    "# Codifica os rótulos em uma estrutura binária\n",
    "def one_hot(y):\n",
    "    one_hot_y = np.zeros((y.size, y.max() + 1))\n",
    "    one_hot_y[np.arange(y.size), y] = 1\n",
    "    return one_hot_y.T\n",
    "    \n",
    "    # Teste\n",
    "one_hot(np.array([0, 1, 2, 3, 4]).T)"
   ]
  },
  {
   "cell_type": "markdown",
   "id": "cbedac05",
   "metadata": {
    "papermill": {
     "duration": 0.014815,
     "end_time": "2023-02-28T19:57:08.703225",
     "exception": false,
     "start_time": "2023-02-28T19:57:08.688410",
     "status": "completed"
    },
    "tags": []
   },
   "source": [
    "#### Propagação Inversa"
   ]
  },
  {
   "cell_type": "code",
   "execution_count": 12,
   "id": "a93f9385",
   "metadata": {
    "execution": {
     "iopub.execute_input": "2023-02-28T19:57:08.734401Z",
     "iopub.status.busy": "2023-02-28T19:57:08.733785Z",
     "iopub.status.idle": "2023-02-28T19:57:08.744603Z",
     "shell.execute_reply": "2023-02-28T19:57:08.743565Z"
    },
    "papermill": {
     "duration": 0.029475,
     "end_time": "2023-02-28T19:57:08.747628",
     "exception": false,
     "start_time": "2023-02-28T19:57:08.718153",
     "status": "completed"
    },
    "tags": []
   },
   "outputs": [],
   "source": [
    "def back_prop(z1, a1, z2, a2, w1, w2, x, y):\n",
    "    m = y.size\n",
    "    one_hot_y = one_hot(y)\n",
    "    dz2 = a2 - one_hot_y\n",
    "    dw2 = 1 / m * dz2.dot(a1.T)\n",
    "    db2 = 1 / m * np.sum(dz2)\n",
    "    dz1 = w2.T.dot(dz2) * deriv_relu(z1)\n",
    "    dw1 = 1 / m * dz1.dot(x.T)\n",
    "    db1 = 1 / m * np.sum(dz1)\n",
    "    return dw1, db1, dw2, db2"
   ]
  },
  {
   "cell_type": "markdown",
   "id": "0c670b1f",
   "metadata": {
    "papermill": {
     "duration": 0.021169,
     "end_time": "2023-02-28T19:57:08.785468",
     "exception": false,
     "start_time": "2023-02-28T19:57:08.764299",
     "status": "completed"
    },
    "tags": []
   },
   "source": [
    "### Atualização dos Parâmetros da rede neural\n",
    "Realiza a atualização dos pesos da rede neural, o objetivo é encontrar pesos que aproxime as entradas aos rótulos,\n",
    "essa estrutura é chamada de aprendizado supervisionado, pois para a rede neural aprender, deve ter uma base de dados com\n",
    "as respostas corretas, assim ela pode comparar sua resposta com as respostas corretas até conseguir obter uma aproximação."
   ]
  },
  {
   "cell_type": "code",
   "execution_count": 13,
   "id": "241dd6ff",
   "metadata": {
    "execution": {
     "iopub.execute_input": "2023-02-28T19:57:08.813588Z",
     "iopub.status.busy": "2023-02-28T19:57:08.813219Z",
     "iopub.status.idle": "2023-02-28T19:57:08.819292Z",
     "shell.execute_reply": "2023-02-28T19:57:08.818065Z"
    },
    "papermill": {
     "duration": 0.021547,
     "end_time": "2023-02-28T19:57:08.822214",
     "exception": false,
     "start_time": "2023-02-28T19:57:08.800667",
     "status": "completed"
    },
    "tags": []
   },
   "outputs": [],
   "source": [
    "def update_params(w1, b1, w2, b2, dw1, db1, dw2, db2, alpha):\n",
    "    w1 = w1 - alpha * dw1\n",
    "    b1 = b1 - alpha * db1\n",
    "    w2 = w2 - alpha * dw2\n",
    "    b2 = b2 - alpha * db2\n",
    "    return w1, b1, w2, b2"
   ]
  },
  {
   "cell_type": "markdown",
   "id": "fc408f4b",
   "metadata": {
    "papermill": {
     "duration": 0.009231,
     "end_time": "2023-02-28T19:57:08.841079",
     "exception": false,
     "start_time": "2023-02-28T19:57:08.831848",
     "status": "completed"
    },
    "tags": []
   },
   "source": [
    "### Descida do Gradiente da Rede Neural\n",
    "Função responsável pelo treinamento da rede neural, esse processo é feito em um loop em que a rede vai aprendendo com os dados,\n",
    "para acompanhar o processo de aprendizagem da rede é usado a métrica de acurácia, o quando a rede acertou quando previu toda a base de dados."
   ]
  },
  {
   "cell_type": "code",
   "execution_count": 14,
   "id": "c30bac65",
   "metadata": {
    "execution": {
     "iopub.execute_input": "2023-02-28T19:57:08.863069Z",
     "iopub.status.busy": "2023-02-28T19:57:08.862014Z",
     "iopub.status.idle": "2023-02-28T19:57:08.871224Z",
     "shell.execute_reply": "2023-02-28T19:57:08.870171Z"
    },
    "papermill": {
     "duration": 0.022683,
     "end_time": "2023-02-28T19:57:08.873602",
     "exception": false,
     "start_time": "2023-02-28T19:57:08.850919",
     "status": "completed"
    },
    "tags": []
   },
   "outputs": [],
   "source": [
    "def get_predictions(A2):\n",
    "    return np.argmax(A2, 0)\n",
    "\n",
    "def get_accuracy(predictions, Y):\n",
    "    print(predictions, Y)\n",
    "    return np.sum(predictions == Y) / Y.size\n",
    "\n",
    "def gradient_descent(x, y, lr, iterations):\n",
    "    w1, b1, w2, b2 = init_params()\n",
    "    for i in range(iterations):\n",
    "        z1, a1, z2, a2 = forward_prop(w1, b1, w2, b2, x)\n",
    "        dw1, db1, dw2, db2 = back_prop(z1, a1, z2, a2, w1, w2, x, y)\n",
    "        w1, b1, w2, b2 = update_params(w1, b1, w2, b2, dw1, db1, dw2, db2, lr)\n",
    "        if ( i% 10 == 0):\n",
    "            print(f\"Iteração: {i}\")\n",
    "            predictons = get_predictions(a2)\n",
    "            print(f\"Acurácia: {get_accuracy(predictons, y)}\")\n",
    "    return w1, b1, w2, b2"
   ]
  },
  {
   "cell_type": "markdown",
   "id": "8fda5fdd",
   "metadata": {
    "papermill": {
     "duration": 0.00961,
     "end_time": "2023-02-28T19:57:08.892903",
     "exception": false,
     "start_time": "2023-02-28T19:57:08.883293",
     "status": "completed"
    },
    "tags": []
   },
   "source": [
    "### Treinamento do Modelo"
   ]
  },
  {
   "cell_type": "code",
   "execution_count": 15,
   "id": "a9b0eab3",
   "metadata": {
    "execution": {
     "iopub.execute_input": "2023-02-28T19:57:08.914976Z",
     "iopub.status.busy": "2023-02-28T19:57:08.913877Z",
     "iopub.status.idle": "2023-02-28T19:59:19.330335Z",
     "shell.execute_reply": "2023-02-28T19:59:19.328721Z"
    },
    "papermill": {
     "duration": 130.432639,
     "end_time": "2023-02-28T19:59:19.335429",
     "exception": false,
     "start_time": "2023-02-28T19:57:08.902790",
     "status": "completed"
    },
    "tags": []
   },
   "outputs": [
    {
     "name": "stdout",
     "output_type": "stream",
     "text": [
      "Iteração: 0\n",
      "[6 4 2 ... 2 6 4] [8 9 6 ... 7 2 7]\n",
      "Acurácia: 0.10879661016949152\n",
      "Iteração: 10\n",
      "[8 6 9 ... 9 6 4] [8 9 6 ... 7 2 7]\n",
      "Acurácia: 0.15310169491525424\n",
      "Iteração: 20\n",
      "[8 6 8 ... 9 3 7] [8 9 6 ... 7 2 7]\n",
      "Acurácia: 0.2101864406779661\n",
      "Iteração: 30\n",
      "[8 6 8 ... 9 3 7] [8 9 6 ... 7 2 7]\n",
      "Acurácia: 0.2536779661016949\n",
      "Iteração: 40\n",
      "[8 4 8 ... 9 3 7] [8 9 6 ... 7 2 7]\n",
      "Acurácia: 0.296406779661017\n",
      "Iteração: 50\n",
      "[8 4 0 ... 9 3 7] [8 9 6 ... 7 2 7]\n",
      "Acurácia: 0.3389491525423729\n",
      "Iteração: 60\n",
      "[8 4 0 ... 9 3 7] [8 9 6 ... 7 2 7]\n",
      "Acurácia: 0.3783728813559322\n",
      "Iteração: 70\n",
      "[8 4 0 ... 9 3 7] [8 9 6 ... 7 2 7]\n",
      "Acurácia: 0.4152033898305085\n",
      "Iteração: 80\n",
      "[8 4 0 ... 9 3 7] [8 9 6 ... 7 2 7]\n",
      "Acurácia: 0.457271186440678\n",
      "Iteração: 90\n",
      "[1 4 0 ... 9 3 7] [8 9 6 ... 7 2 7]\n",
      "Acurácia: 0.5017627118644068\n",
      "Iteração: 100\n",
      "[1 4 0 ... 9 3 7] [8 9 6 ... 7 2 7]\n",
      "Acurácia: 0.5395254237288135\n",
      "Iteração: 110\n",
      "[1 4 0 ... 7 3 7] [8 9 6 ... 7 2 7]\n",
      "Acurácia: 0.5726610169491525\n",
      "Iteração: 120\n",
      "[1 4 6 ... 7 3 7] [8 9 6 ... 7 2 7]\n",
      "Acurácia: 0.600457627118644\n",
      "Iteração: 130\n",
      "[1 4 6 ... 7 3 7] [8 9 6 ... 7 2 7]\n",
      "Acurácia: 0.6207627118644068\n",
      "Iteração: 140\n",
      "[1 4 6 ... 7 3 7] [8 9 6 ... 7 2 7]\n",
      "Acurácia: 0.6387457627118645\n",
      "Iteração: 150\n",
      "[1 4 6 ... 7 3 7] [8 9 6 ... 7 2 7]\n",
      "Acurácia: 0.6546271186440678\n",
      "Iteração: 160\n",
      "[1 4 6 ... 7 3 7] [8 9 6 ... 7 2 7]\n",
      "Acurácia: 0.670135593220339\n",
      "Iteração: 170\n",
      "[1 4 6 ... 7 3 7] [8 9 6 ... 7 2 7]\n",
      "Acurácia: 0.6848305084745763\n",
      "Iteração: 180\n",
      "[1 4 6 ... 7 3 7] [8 9 6 ... 7 2 7]\n",
      "Acurácia: 0.7000508474576271\n",
      "Iteração: 190\n",
      "[1 4 6 ... 7 3 7] [8 9 6 ... 7 2 7]\n",
      "Acurácia: 0.7140847457627119\n",
      "Iteração: 200\n",
      "[1 4 6 ... 7 3 7] [8 9 6 ... 7 2 7]\n",
      "Acurácia: 0.7271016949152542\n",
      "Iteração: 210\n",
      "[1 4 6 ... 7 3 7] [8 9 6 ... 7 2 7]\n",
      "Acurácia: 0.7386779661016949\n",
      "Iteração: 220\n",
      "[1 4 6 ... 7 3 7] [8 9 6 ... 7 2 7]\n",
      "Acurácia: 0.7502203389830508\n",
      "Iteração: 230\n",
      "[1 4 6 ... 7 3 7] [8 9 6 ... 7 2 7]\n",
      "Acurácia: 0.7603728813559322\n",
      "Iteração: 240\n",
      "[1 4 6 ... 7 3 7] [8 9 6 ... 7 2 7]\n",
      "Acurácia: 0.7686101694915254\n",
      "Iteração: 250\n",
      "[1 4 6 ... 7 3 7] [8 9 6 ... 7 2 7]\n",
      "Acurácia: 0.7758983050847458\n",
      "Iteração: 260\n",
      "[1 4 6 ... 7 3 7] [8 9 6 ... 7 2 7]\n",
      "Acurácia: 0.7834745762711864\n",
      "Iteração: 270\n",
      "[3 4 6 ... 7 3 7] [8 9 6 ... 7 2 7]\n",
      "Acurácia: 0.7890847457627118\n",
      "Iteração: 280\n",
      "[3 4 6 ... 7 3 7] [8 9 6 ... 7 2 7]\n",
      "Acurácia: 0.7940847457627118\n",
      "Iteração: 290\n",
      "[3 4 6 ... 7 3 7] [8 9 6 ... 7 2 7]\n",
      "Acurácia: 0.799\n",
      "Iteração: 300\n",
      "[3 4 6 ... 7 3 7] [8 9 6 ... 7 2 7]\n",
      "Acurácia: 0.8036271186440678\n",
      "Iteração: 310\n",
      "[3 4 6 ... 7 3 7] [8 9 6 ... 7 2 7]\n",
      "Acurácia: 0.8071186440677967\n",
      "Iteração: 320\n",
      "[3 4 6 ... 7 3 7] [8 9 6 ... 7 2 7]\n",
      "Acurácia: 0.8108983050847458\n",
      "Iteração: 330\n",
      "[3 4 6 ... 7 3 7] [8 9 6 ... 7 2 7]\n",
      "Acurácia: 0.8140338983050848\n",
      "Iteração: 340\n",
      "[3 4 6 ... 7 3 7] [8 9 6 ... 7 2 7]\n",
      "Acurácia: 0.8171694915254237\n",
      "Iteração: 350\n",
      "[3 4 6 ... 7 3 7] [8 9 6 ... 7 2 7]\n",
      "Acurácia: 0.8197966101694916\n",
      "Iteração: 360\n",
      "[3 4 6 ... 7 3 7] [8 9 6 ... 7 2 7]\n",
      "Acurácia: 0.8222372881355933\n",
      "Iteração: 370\n",
      "[3 4 6 ... 7 3 7] [8 9 6 ... 7 2 7]\n",
      "Acurácia: 0.8248474576271186\n",
      "Iteração: 380\n",
      "[3 4 6 ... 7 3 7] [8 9 6 ... 7 2 7]\n",
      "Acurácia: 0.8268305084745763\n",
      "Iteração: 390\n",
      "[3 4 6 ... 7 3 7] [8 9 6 ... 7 2 7]\n",
      "Acurácia: 0.829\n",
      "Iteração: 400\n",
      "[8 4 6 ... 7 3 7] [8 9 6 ... 7 2 7]\n",
      "Acurácia: 0.8315084745762712\n",
      "Iteração: 410\n",
      "[8 4 6 ... 7 3 7] [8 9 6 ... 7 2 7]\n",
      "Acurácia: 0.8335254237288136\n",
      "Iteração: 420\n",
      "[8 4 6 ... 7 3 7] [8 9 6 ... 7 2 7]\n",
      "Acurácia: 0.8355762711864407\n",
      "Iteração: 430\n",
      "[8 4 6 ... 7 3 7] [8 9 6 ... 7 2 7]\n",
      "Acurácia: 0.837728813559322\n",
      "Iteração: 440\n",
      "[8 4 6 ... 7 3 7] [8 9 6 ... 7 2 7]\n",
      "Acurácia: 0.8395084745762712\n",
      "Iteração: 450\n",
      "[8 4 6 ... 7 3 7] [8 9 6 ... 7 2 7]\n",
      "Acurácia: 0.8406610169491525\n",
      "Iteração: 460\n",
      "[8 4 6 ... 7 3 7] [8 9 6 ... 7 2 7]\n",
      "Acurácia: 0.8422881355932204\n",
      "Iteração: 470\n",
      "[8 4 6 ... 7 3 7] [8 9 6 ... 7 2 7]\n",
      "Acurácia: 0.843728813559322\n",
      "Iteração: 480\n",
      "[8 4 6 ... 7 3 7] [8 9 6 ... 7 2 7]\n",
      "Acurácia: 0.8449491525423729\n",
      "Iteração: 490\n",
      "[8 4 6 ... 7 3 7] [8 9 6 ... 7 2 7]\n",
      "Acurácia: 0.8464406779661017\n"
     ]
    }
   ],
   "source": [
    "W1, b1, W2, b2 = gradient_descent(X_train, Y_train, 0.10, 500)"
   ]
  },
  {
   "cell_type": "markdown",
   "id": "9f3ddfdc",
   "metadata": {
    "papermill": {
     "duration": 0.032611,
     "end_time": "2023-02-28T19:59:19.402144",
     "exception": false,
     "start_time": "2023-02-28T19:59:19.369533",
     "status": "completed"
    },
    "tags": []
   },
   "source": [
    "---\n",
    "\n",
    "## **Teste do Modelo treinado e Visualização das previsões**"
   ]
  },
  {
   "cell_type": "code",
   "execution_count": 16,
   "id": "82f52cb5",
   "metadata": {
    "execution": {
     "iopub.execute_input": "2023-02-28T19:59:19.465554Z",
     "iopub.status.busy": "2023-02-28T19:59:19.465174Z",
     "iopub.status.idle": "2023-02-28T19:59:19.474977Z",
     "shell.execute_reply": "2023-02-28T19:59:19.473659Z"
    },
    "papermill": {
     "duration": 0.042023,
     "end_time": "2023-02-28T19:59:19.477539",
     "exception": false,
     "start_time": "2023-02-28T19:59:19.435516",
     "status": "completed"
    },
    "tags": []
   },
   "outputs": [],
   "source": [
    "def make_predictions(x, w1, b1, w2, b2):\n",
    "    _, _, _, a2 = forward_prop(w1, b1, w2, b2, x)\n",
    "    predictions = get_predictions(a2)\n",
    "    return predictions\n",
    "\n",
    "def test_prediction(index, w1, b1, w2, b2):\n",
    "    plt.figure(figsize=(7, 5))\n",
    "    for i in range(9):\n",
    "        current_image = X_train[:, index[i], None]\n",
    "        prediction = make_predictions(X_train[:, index[i], None], w1, b1, w2, b2)\n",
    "        label = Y_train[index[i]]\n",
    "        print(\"Prediction: \", prediction)\n",
    "        print(\"Label: \", label)\n",
    "\n",
    "        plt.subplot(330 + 1 + i)\n",
    "        plt.title(f\"Rótulo: {label}\")\n",
    "        # Coloca os pixels no formato 28x28 da imagem original do número\n",
    "        current_image = current_image.reshape((28, 28)) * 255\n",
    "        plt.gray()\n",
    "        # gera uma imagens com os dados dos pixels\n",
    "        plt.imshow(current_image, interpolation='nearest')\n",
    "        \n",
    "    plt.subplots_adjust(wspace=0.1, hspace=0.5)\n",
    "    plt.show()"
   ]
  },
  {
   "cell_type": "code",
   "execution_count": 17,
   "id": "9aefebb9",
   "metadata": {
    "execution": {
     "iopub.execute_input": "2023-02-28T19:59:19.506634Z",
     "iopub.status.busy": "2023-02-28T19:59:19.505519Z",
     "iopub.status.idle": "2023-02-28T19:59:20.339616Z",
     "shell.execute_reply": "2023-02-28T19:59:20.338492Z"
    },
    "papermill": {
     "duration": 0.852014,
     "end_time": "2023-02-28T19:59:20.342865",
     "exception": false,
     "start_time": "2023-02-28T19:59:19.490851",
     "status": "completed"
    },
    "tags": []
   },
   "outputs": [
    {
     "name": "stdout",
     "output_type": "stream",
     "text": [
      "Prediction:  [2]\n",
      "Label:  2\n",
      "Prediction:  [2]\n",
      "Label:  2\n",
      "Prediction:  [9]\n",
      "Label:  9\n",
      "Prediction:  [9]\n",
      "Label:  9\n",
      "Prediction:  [3]\n",
      "Label:  3\n",
      "Prediction:  [3]\n",
      "Label:  3\n",
      "Prediction:  [2]\n",
      "Label:  2\n",
      "Prediction:  [9]\n",
      "Label:  9\n",
      "Prediction:  [7]\n",
      "Label:  7\n"
     ]
    },
    {
     "data": {
      "image/png": "[encoded data removed]",
      "text/plain": [
       "<Figure size 700x500 with 9 Axes>"
      ]
     },
     "metadata": {},
     "output_type": "display_data"
    }
   ],
   "source": [
    "testes = np.random.randint(Y_test.shape[0], size=(9))\n",
    "test_prediction(testes, W1, b1, W2, b2)\n"
   ]
  },
  {
   "cell_type": "code",
   "execution_count": 18,
   "id": "0c5cd1ab",
   "metadata": {
    "execution": {
     "iopub.execute_input": "2023-02-28T19:59:20.385247Z",
     "iopub.status.busy": "2023-02-28T19:59:20.384644Z",
     "iopub.status.idle": "2023-02-28T19:59:21.250414Z",
     "shell.execute_reply": "2023-02-28T19:59:21.249339Z"
    },
    "papermill": {
     "duration": 0.889046,
     "end_time": "2023-02-28T19:59:21.252681",
     "exception": false,
     "start_time": "2023-02-28T19:59:20.363635",
     "status": "completed"
    },
    "tags": []
   },
   "outputs": [
    {
     "name": "stdout",
     "output_type": "stream",
     "text": [
      "Prediction:  [2]\n",
      "Label:  2\n",
      "Prediction:  [3]\n",
      "Label:  3\n",
      "Prediction:  [4]\n",
      "Label:  4\n",
      "Prediction:  [2]\n",
      "Label:  2\n",
      "Prediction:  [8]\n",
      "Label:  5\n",
      "Prediction:  [7]\n",
      "Label:  9\n",
      "Prediction:  [1]\n",
      "Label:  8\n",
      "Prediction:  [4]\n",
      "Label:  6\n",
      "Prediction:  [3]\n",
      "Label:  3\n"
     ]
    },
    {
     "data": {
      "image/png": "[encoded data removed]",
      "text/plain": [
       "<Figure size 700x500 with 9 Axes>"
      ]
     },
     "metadata": {},
     "output_type": "display_data"
    }
   ],
   "source": [
    "testes = np.random.randint(Y_test.shape[0], size=(9))\n",
    "test_prediction(testes, W1, b1, W2, b2)"
   ]
  },
  {
   "cell_type": "markdown",
   "id": "70e1a664",
   "metadata": {
    "papermill": {
     "duration": 0.01358,
     "end_time": "2023-02-28T19:59:21.279301",
     "exception": false,
     "start_time": "2023-02-28T19:59:21.265721",
     "status": "completed"
    },
    "tags": []
   },
   "source": [
    "Por fim, vamos encontrar a precisão no conjunto de dados de teste:"
   ]
  },
  {
   "cell_type": "code",
   "execution_count": 19,
   "id": "3f382d2a",
   "metadata": {
    "execution": {
     "iopub.execute_input": "2023-02-28T19:59:21.307966Z",
     "iopub.status.busy": "2023-02-28T19:59:21.306832Z",
     "iopub.status.idle": "2023-02-28T19:59:21.336062Z",
     "shell.execute_reply": "2023-02-28T19:59:21.334116Z"
    },
    "papermill": {
     "duration": 0.047285,
     "end_time": "2023-02-28T19:59:21.339669",
     "exception": false,
     "start_time": "2023-02-28T19:59:21.292384",
     "status": "completed"
    },
    "tags": []
   },
   "outputs": [
    {
     "name": "stdout",
     "output_type": "stream",
     "text": [
      "[2 1 8 6 7 1 5 6 5 7 4 8 1 9 4 7 4 0 7 7 1 9 2 1 2 0 2 4 6 6 5 9 2 6 7 1 8\n",
      " 3 2 9 3 6 2 7 0 1 1 8 4 8 0 7 4 5 4 2 3 9 1 2 8 7 1 1 0 0 5 0 6 6 6 9 3 8\n",
      " 1 2 1 8 4 8 3 2 9 9 3 1 3 1 3 7 6 0 3 9 2 4 4 1 2 2 3 7 2 1 9 1 7 6 1 9 5\n",
      " 7 7 7 8 0 6 0 0 9 7 3 7 3 0 0 8 3 0 7 3 6 4 4 6 7 2 3 2 8 2 6 6 4 6 2 0 4\n",
      " 9 4 1 1 7 0 6 5 5 8 8 8 2 3 0 7 1 3 4 6 2 3 2 8 8 4 0 5 3 0 3 9 1 2 0 2 1\n",
      " 5 5 1 7 3 4 0 0 8 8 4 4 3 5 5 4 2 9 5 4 0 3 7 8 3 0 7 9 9 5 3 0 0 5 5 2 6\n",
      " 0 7 2 2 9 0 4 8 8 9 8 9 3 4 5 3 3 5 4 1 6 0 3 8 7 6 0 2 2 1 7 9 8 3 3 5 5\n",
      " 3 3 7 6 9 6 4 4 5 3 1 2 9 5 8 0 8 5 5 5 9 7 7 3 7 9 2 2 7 3 8 8 5 6 2 0 2\n",
      " 7 7 9 0 4 0 7 9 9 0 0 2 8 3 7 5 4 6 7 8 0 3 5 6 1 5 1 4 9 3 5 1 4 6 8 7 8\n",
      " 3 0 1 2 3 9 8 3 1 0 8 0 0 0 2 9 0 2 0 7 2 0 5 1 8 8 0 0 1 9 3 5 0 7 4 8 4\n",
      " 9 9 3 4 7 3 8 5 1 7 0 6 0 0 8 3 6 7 5 2 8 5 2 1 7 9 0 2 7 9 0 7 8 4 9 4 4\n",
      " 5 6 1 8 8 6 1 3 7 0 0 0 3 7 8 1 5 6 8 3 8 9 6 7 7 3 3 8 0 6 3 2 2 9 4 0 1\n",
      " 0 3 8 9 0 3 9 9 3 4 0 8 6 5 6 1 3 8 2 1 7 6 0 4 8 1 0 0 8 2 1 0 7 9 0 5 4\n",
      " 1 1 1 0 0 7 3 4 5 3 6 1 6 1 2 1 0 1 4 7 2 5 3 2 2 1 1 1 7 9 7 3 8 5 9 2 2\n",
      " 9 2 8 2 1 2 8 7 2 3 4 9 6 7 0 7 5 6 4 4 6 9 0 0 3 7 5 2 2 8 4 0 8 9 3 6 9\n",
      " 2 3 0 2 9 0 1 2 0 3 8 4 2 2 1 9 8 5 2 6 0 8 3 1 9 6 1 6 7 3 1 7 2 8 3 7 1\n",
      " 8 3 2 3 0 7 3 5 4 6 8 6 0 7 6 6 3 9 4 1 8 1 6 4 1 1 4 7 6 0 9 9 1 4 1 2 5\n",
      " 9 2 0 9 5 0 1 1 3 3 1 0 4 0 3 9 8 2 2 9 4 1 7 0 8 6 9 2 2 0 6 3 1 6 1 8 9\n",
      " 7 4 9 3 1 4 3 8 3 0 9 2 0 2 2 1 8 8 4 6 7 0 8 0 8 1 5 7 6 1 7 6 7 8 1 8 9\n",
      " 5 0 1 9 2 3 9 2 9 3 1 4 1 7 9 1 2 6 0 6 9 4 8 1 1 1 5 0 8 6 6 7 5 7 9 0 9\n",
      " 3 1 6 6 7 9 3 3 0 5 8 2 3 1 9 5 5 1 3 4 3 1 1 4 4 6 3 9 7 1 4 0 0 9 7 8 8\n",
      " 4 4 4 4 1 3 0 8 4 9 3 8 3 2 4 1 8 1 0 6 1 9 9 7 0 1 5 2 3 9 4 2 1 1 8 9 5\n",
      " 8 1 5 1 8 9 7 9 3 9 9 2 0 6 7 2 3 7 2 5 0 6 3 7 7 0 9 8 4 4 2 7 1 6 0 8 4\n",
      " 7 7 1 3 4 2 2 4 3 4 8 0 3 3 4 1 0 1 2 1 2 3 0 7 1 5 4 6 8 6 5 5 8 4 8 0 1\n",
      " 5 9 9 8 1 2 4 3 9 4 0 0 1 1 1 9 9 9 4 3 4 4 1 6 4 4 5 6 1 9 9 3 5 4 8 7 6\n",
      " 3 2 9 6 2 7 3 0 3 8 0 8 3 8 7 9 3 0 1 3 4 8 3 6 4 7 7 3 5 1 8 1 8 0 1 1 2\n",
      " 2 1 6 2 6 3 7 5 0 4 4 0 6 7 6 3 3 7 6 2 1 1 7 9 8 6 5 3 8 3 9 9 8 3 3 2 9\n",
      " 2] [2 1 2 0 7 1 0 6 5 7 4 8 1 9 9 5 4 0 7 8 1 4 2 1 2 0 2 5 6 6 5 4 2 6 7 1 8\n",
      " 3 2 9 3 6 2 7 0 1 1 8 4 8 0 5 4 5 4 2 3 9 1 2 8 7 1 1 0 0 5 0 6 6 6 3 3 8\n",
      " 1 0 1 8 4 8 3 2 7 9 3 1 3 1 3 7 0 0 3 9 2 4 4 1 2 2 2 9 7 1 9 7 7 6 1 9 5\n",
      " 7 7 9 8 0 6 3 0 9 7 0 7 3 0 0 8 3 0 7 3 6 4 4 6 4 2 3 2 8 2 6 6 2 6 2 0 4\n",
      " 9 4 1 1 7 0 6 5 8 8 8 8 2 3 0 2 1 7 5 6 2 3 2 8 8 4 7 0 3 0 3 8 1 2 0 2 1\n",
      " 5 5 1 2 3 4 0 0 5 8 4 4 3 1 5 4 2 9 5 4 0 3 7 8 8 0 3 4 7 5 3 0 0 5 5 2 6\n",
      " 0 7 2 2 9 0 9 8 5 9 5 9 3 4 5 3 3 5 5 1 6 0 3 8 7 6 0 2 2 1 7 9 8 3 3 5 8\n",
      " 3 3 7 6 9 2 4 4 5 3 1 2 9 5 8 0 8 3 5 5 9 7 7 3 7 9 2 2 7 3 8 8 5 6 2 0 2\n",
      " 7 7 9 0 4 0 7 9 9 0 3 2 8 9 7 5 4 6 7 0 0 5 5 6 1 5 1 4 9 3 6 1 4 6 8 9 8\n",
      " 3 7 1 2 3 9 1 3 1 0 8 0 0 0 3 9 0 3 0 7 2 0 5 5 8 5 0 0 1 9 3 5 0 7 4 7 4\n",
      " 4 7 3 2 7 3 2 5 1 7 0 6 0 0 8 2 6 7 5 2 8 8 2 1 7 9 0 7 7 4 0 9 7 4 9 4 4\n",
      " 5 6 8 8 8 6 1 9 7 0 0 0 3 7 8 1 5 4 5 3 8 9 6 7 7 3 3 8 0 5 2 2 7 4 4 0 1\n",
      " 0 3 8 7 0 3 7 7 3 4 0 6 6 2 6 1 3 8 2 1 7 6 0 4 8 1 0 0 8 2 1 0 9 9 0 5 4\n",
      " 1 1 1 0 0 7 3 4 5 5 6 1 6 1 2 1 0 8 4 7 2 5 3 2 2 1 1 1 9 9 7 3 8 8 9 2 2\n",
      " 9 2 8 2 1 1 3 7 2 3 4 9 6 7 0 7 5 6 4 4 6 9 0 0 3 7 5 2 8 8 4 0 8 9 3 6 9\n",
      " 2 3 0 2 2 0 1 2 0 3 3 4 2 0 1 9 8 5 2 6 0 8 3 1 9 6 8 6 7 3 8 7 2 8 3 7 1\n",
      " 8 3 2 3 0 7 3 5 4 6 0 6 0 7 6 6 3 4 4 1 8 1 4 4 1 1 4 7 6 0 9 9 1 9 1 2 5\n",
      " 9 2 0 9 5 0 1 1 3 3 1 0 4 5 3 9 8 2 2 9 4 1 7 0 8 6 9 2 2 0 6 3 1 6 1 8 9\n",
      " 3 9 9 8 1 4 2 8 3 0 9 2 9 2 2 1 8 8 4 6 7 0 8 0 2 1 5 9 6 1 7 6 7 8 8 8 9\n",
      " 5 0 1 9 2 3 9 2 9 3 1 4 1 7 9 1 2 6 0 6 9 4 8 1 1 1 8 0 8 6 6 7 5 7 7 0 9\n",
      " 3 1 6 6 7 9 3 3 0 8 8 2 3 1 7 0 5 1 3 4 3 1 1 4 4 6 3 9 7 1 4 0 0 9 0 8 8\n",
      " 4 9 4 4 1 3 7 8 4 9 3 1 7 2 4 1 8 1 0 6 1 9 9 7 0 1 5 2 3 9 4 2 1 1 8 9 5\n",
      " 8 1 5 8 8 9 7 9 3 9 9 2 0 6 7 2 3 7 7 5 0 6 3 7 7 0 9 8 4 4 2 7 1 6 0 8 4\n",
      " 7 7 1 3 4 3 2 6 3 4 8 0 3 3 4 1 0 1 3 1 2 3 0 7 1 5 4 6 8 0 5 5 8 4 8 0 1\n",
      " 5 9 9 8 1 2 4 3 9 4 0 0 1 2 1 9 9 9 4 3 6 4 1 6 4 4 5 6 1 9 9 3 5 4 4 7 6\n",
      " 3 2 9 6 6 2 3 0 3 8 3 8 3 8 7 9 8 0 1 3 4 8 3 4 4 7 7 3 5 1 8 1 8 0 1 1 2\n",
      " 2 8 6 2 6 3 9 5 0 4 4 6 6 7 6 3 3 7 6 2 1 1 7 9 3 6 5 3 8 3 9 4 8 3 3 2 9\n",
      " 2]\n"
     ]
    },
    {
     "data": {
      "text/plain": [
       "0.865"
      ]
     },
     "execution_count": 19,
     "metadata": {},
     "output_type": "execute_result"
    }
   ],
   "source": [
    "test_predictions = make_predictions(X_test, W1, b1, W2, b2)\n",
    "get_accuracy(test_predictions, Y_test)"
   ]
  },
  {
   "cell_type": "markdown",
   "id": "2d2bc389",
   "metadata": {
    "papermill": {
     "duration": 0.033266,
     "end_time": "2023-02-28T19:59:21.407483",
     "exception": false,
     "start_time": "2023-02-28T19:59:21.374217",
     "status": "completed"
    },
    "tags": []
   },
   "source": [
    "Mesmo com os dados que não foram usados para treinar o modelo, ainda assim o modelo tem 85,3% de precisão, Dessa forma, podemos afirmar que o modelo não sofreu Overfitting. então nosso modelo generalizou muito bem a partir dos dados de treinamento."
   ]
  }
 ],
 "metadata": {
  "kernelspec": {
   "display_name": "Python 3",
   "language": "python",
   "name": "python3"
  },
  "language_info": {
   "codemirror_mode": {
    "name": "ipython",
    "version": 3
   },
   "file_extension": ".py",
   "mimetype": "text/x-python",
   "name": "python",
   "nbconvert_exporter": "python",
   "pygments_lexer": "ipython3",
   "version": "3.10.8"
  },
  "papermill": {
   "default_parameters": {},
   "duration": 152.068599,
   "end_time": "2023-02-28T19:59:22.065891",
   "environment_variables": {},
   "exception": null,
   "input_path": "__notebook__.ipynb",
   "output_path": "__notebook__.ipynb",
   "parameters": {},
   "start_time": "2023-02-28T19:56:49.997292",
   "version": "2.4.0"
  },
  "vscode": {
   "interpreter": {
    "hash": "e7370f93d1d0cde622a1f8e1c04877d8463912d04d973331ad4851f04de6915a"
   }
  }
 },
 "nbformat": 4,
 "nbformat_minor": 5
}
