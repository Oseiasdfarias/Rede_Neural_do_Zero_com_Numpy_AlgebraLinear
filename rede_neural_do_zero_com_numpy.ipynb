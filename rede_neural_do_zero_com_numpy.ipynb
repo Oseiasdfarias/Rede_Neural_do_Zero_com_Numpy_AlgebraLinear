{
 "cells": [
  {
   "attachments": {},
   "cell_type": "markdown",
   "metadata": {},
   "source": [
    "# Rede Neural Artificial do Zero com Numpy"
   ]
  },
  {
   "attachments": {},
   "cell_type": "markdown",
   "metadata": {},
   "source": [
    "## Estrutura da Rede Neural\n",
    "\n",
    "A rede neural terá três camadas, sendo a primeira a camada de entradas, a segunda a camada oculta e a terceira a camada de saída.\n"
   ]
  },
  {
   "attachments": {},
   "cell_type": "markdown",
   "metadata": {},
   "source": [
    "<p align=\"center\">\n",
    "  <img src=\"utils/estrutura_rn.png\"  style=\"height: 60%; width:60%;\"/>\n",
    "</p>"
   ]
  },
  {
   "attachments": {},
   "cell_type": "markdown",
   "metadata": {},
   "source": [
    "### Camada de Entradas:\n",
    "\n",
    "Essa camada recebe os pixels da imagem, cada imagem do conjunto de dados tem 28x28 pixels. ou seja, possui 784 pixels. Assim, a camada de entrada terá 784 entradas que corresponde ao número de pixels das imagens.\n",
    "\n",
    "### Camada Oculta:\n",
    "Para a camada oculta, vamos usar 10 neurônios, esse valor é arbitrário, foi usado para ficar melhor de entender a estrutura.\n",
    "\n",
    "### Camada de Saída:\n",
    "Para a camada de saída, deve ser usado 10 neurônios, pois como estamos trabalhando com um problema de classificação, cada neurônio da saída se refere a uma das classes, no caso do dataset MNIST, cada número é uma classe. iremos nos aprofundar melhor nessa parte mais a frente."
   ]
  },
  {
   "attachments": {},
   "cell_type": "markdown",
   "metadata": {},
   "source": [
    "## Base de dados usada"
   ]
  },
  {
   "attachments": {},
   "cell_type": "markdown",
   "metadata": {},
   "source": [
    "O objetivo é criar uma Rede Neural para classificar dígitos manuscritos, vamos usar uma base de dados muito conhecida chamada MNIST, essa base de dados é composta por imagem dos números de 0 a 10.\n",
    "\n",
    "<p align=\"center\">\n",
    "  <img src=\"https://machinelearningmastery.com/wp-content/uploads/2019/02/Plot-of-a-Subset-of-Images-from-the-MNIST-Dataset-1024x768.png\"  style=\"height: 30%; width:30%;\"/>\n",
    "</p>"
   ]
  },
  {
   "attachments": {},
   "cell_type": "markdown",
   "metadata": {},
   "source": [
    "## Matemática"
   ]
  },
  {
   "attachments": {},
   "cell_type": "markdown",
   "metadata": {},
   "source": [
    ".. ."
   ]
  },
  {
   "attachments": {},
   "cell_type": "markdown",
   "metadata": {},
   "source": [
    "## Desenvolvendo o Algorítimo"
   ]
  },
  {
   "attachments": {},
   "cell_type": "markdown",
   "metadata": {},
   "source": [
    "### Importando as Bibliotecas"
   ]
  },
  {
   "cell_type": "code",
   "execution_count": 1,
   "metadata": {},
   "outputs": [],
   "source": [
    "import numpy as np\n",
    "import pandas as pd\n",
    "from matplotlib import pyplot as plt"
   ]
  },
  {
   "attachments": {},
   "cell_type": "markdown",
   "metadata": {},
   "source": [
    "Carregando o Dataset MNIST"
   ]
  },
  {
   "cell_type": "code",
   "execution_count": null,
   "metadata": {},
   "outputs": [],
   "source": [
    "data_train = pd.read_csv(\"dataset_mnist/mnist_train.csv\")\n",
    "data_train.head()"
   ]
  }
 ],
 "metadata": {
  "kernelspec": {
   "display_name": "Python 3",
   "language": "python",
   "name": "python3"
  },
  "language_info": {
   "codemirror_mode": {
    "name": "ipython",
    "version": 3
   },
   "file_extension": ".py",
   "mimetype": "text/x-python",
   "name": "python",
   "nbconvert_exporter": "python",
   "pygments_lexer": "ipython3",
   "version": "3.10.8"
  },
  "orig_nbformat": 4,
  "vscode": {
   "interpreter": {
    "hash": "e7370f93d1d0cde622a1f8e1c04877d8463912d04d973331ad4851f04de6915a"
   }
  }
 },
 "nbformat": 4,
 "nbformat_minor": 2
}
